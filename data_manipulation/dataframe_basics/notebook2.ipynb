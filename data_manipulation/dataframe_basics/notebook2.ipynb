import pandas as pd

# Dictionary to DataFrame creation
d1 = {'day': ['1/1/2017', '1/2/2017', '1/3/2017', '1/4/2017', '1/5/2017', '1/6/2017'],
      'Temperature': [32, 35, 28, 24, 32, 31]}
df1 = pd.DataFrame(d1)
print(df1)

# Read CSV Data
df = pd.read_csv('weather_data.csv')
print(df)

# Shape of DataFrame (rows, columns)
rows, columns = df.shape
print(f"Rows: {rows}, Columns: {columns}")

# Display first and last few rows of the DataFrame
print(df.head(3))  # First 3 rows
print(df.tail(2))  # Last 2 rows

# Slicing and Step Slicing
print(df[2:5])    # Slicing rows 2 to 4
print(df[::2])    # Every 2nd row starting from 0

# Column Information
print(df.columns)
print(df['day'])   # Access specific column

# Data exploration
print(df.describe())  # Descriptive stats for numeric columns
print(df.info())      # DataFrame structure

# Conditional Selection
print(df[df['temperature'] >= 31])  # Filter rows where temperature is >= 31

# Extract row with max temperature
print(df[['day', 'event', 'temperature']][df['temperature'] == df['temperature'].max()])

# Aggregate functions
print(f"Sum: {df['temperature'].sum()}")
print(f"Mean: {df['temperature'].mean()}")
print(f"Max: {df['temperature'].max()}")
print(f"Min: {df['temperature'].min()}")
print(f"Count: {df['temperature'].count()}")
print(f"Standard Deviation: {df['temperature'].std()}")

# Copy and Explore the Data
df_copy = df.copy()
print(df_copy)

# Set 'day' as index, then reset
df.set_index('day', inplace=True)
print(df.loc['1/3/2017'])  # Access specific row by index
df.reset_index(inplace=True)
print(df)

# Setting a new index ('windspeed')
df.set_index('windspeed', inplace=True)
print(df)
